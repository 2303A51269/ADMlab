{
  "nbformat": 4,
  "nbformat_minor": 0,
  "metadata": {
    "colab": {
      "provenance": [],
      "authorship_tag": "ABX9TyOeuxQn7puTY6YbdhuXg0CE",
      "include_colab_link": true
    },
    "kernelspec": {
      "name": "python3",
      "display_name": "Python 3"
    },
    "language_info": {
      "name": "python"
    }
  },
  "cells": [
    {
      "cell_type": "markdown",
      "metadata": {
        "id": "view-in-github",
        "colab_type": "text"
      },
      "source": [
        "<a href=\"https://colab.research.google.com/github/2303A51269/ADMlab/blob/main/Lab3.ipynb\" target=\"_parent\"><img src=\"https://colab.research.google.com/assets/colab-badge.svg\" alt=\"Open In Colab\"/></a>"
      ]
    },
    {
      "cell_type": "code",
      "execution_count": 6,
      "metadata": {
        "colab": {
          "base_uri": "https://localhost:8080/"
        },
        "id": "nqtDSkVILiPB",
        "outputId": "b05797c0-96c7-48e0-b2b1-5d39d93da04d"
      },
      "outputs": [
        {
          "output_type": "stream",
          "name": "stdout",
          "text": [
            "Median: 45.0\n",
            "Mode: 45\n"
          ]
        }
      ],
      "source": [
        "import numpy as np\n",
        "from scipy import stats\n",
        "\n",
        "# Given dataset\n",
        "data = [12, 45, 67, 23, 45, 89, 45, 12, 33, 67, 67, 78, 45, 23, 23, 56, 89, 45, 33, 45]\n",
        "\n",
        "# Calculate median\n",
        "median = np.median(data)\n",
        "print(\"Median:\", median)\n",
        "\n",
        "mode = stats.mode(data)\n",
        "# Access the mode value directly without indexing\n",
        "print(\"Mode:\", mode.mode) # Changed from mode.mode[0] to mode.mode"
      ]
    },
    {
      "cell_type": "code",
      "source": [
        "import pandas as pd\n",
        "\n",
        "# Given dataset\n",
        "data = [12, 45, 67, 23, 45, 89, 45, 12, 33, 67, 67, 78, 45, 23, 23, 56, 89, 45, 33, 45]\n",
        "\n",
        "# Create a pandas Series from the dataset\n",
        "series_data = pd.Series(data)\n",
        "\n",
        "# Calculate mode\n",
        "mode = series_data.mode()\n",
        "print(\"Mode:\", mode[0])"
      ],
      "metadata": {
        "colab": {
          "base_uri": "https://localhost:8080/"
        },
        "id": "G7AqQWUWRfxb",
        "outputId": "4f1e619f-91e9-4ef3-9689-410b9d65c9c2"
      },
      "execution_count": 8,
      "outputs": [
        {
          "output_type": "stream",
          "name": "stdout",
          "text": [
            "Mode: 45\n"
          ]
        }
      ]
    },
    {
      "cell_type": "code",
      "source": [
        "import numpy as np\n",
        "import pandas as pd\n",
        "from scipy import stats\n",
        "\n",
        "scores = np.array([10, 20, 30, 40, 50])\n",
        "frequencies = np.array([5, 8, 12, 15, 7])\n",
        "cumulative_frequencies = np.cumsum(frequencies)\n",
        "\n",
        "total_count = cumulative_frequencies[-1]\n",
        "median_class_index = np.searchsorted(cumulative_frequencies, total_count / 2)\n",
        "median_grouped = scores[median_class_index]\n",
        "\n",
        "#Compute mode (score with highest frequency)\n",
        "mode_grouped_np = scores[np.argmax(frequencies)]\n",
        "mode_grouped_pd = pd.Series(frequencies, index=scores).idxmax()\n",
        "\n",
        "\n",
        "print(f\"Median: {median_grouped}\")\n",
        "print(f\"Mode (numpy): {mode_grouped_np}\")\n",
        "print(f\"Mode (pandas): {mode_grouped_pd}\")\n",
        "\n"
      ],
      "metadata": {
        "colab": {
          "base_uri": "https://localhost:8080/"
        },
        "id": "TvUFVnpLRlGD",
        "outputId": "0f4226bf-8fce-4185-f44b-81f466d36650"
      },
      "execution_count": 15,
      "outputs": [
        {
          "output_type": "stream",
          "name": "stdout",
          "text": [
            "Median: 30\n",
            "Mode (numpy): 40\n",
            "Mode (pandas): 40\n"
          ]
        }
      ]
    },
    {
      "cell_type": "code",
      "source": [
        "import pandas as pd\n",
        "\n",
        "# Data\n",
        "intervals = [(0, 10), (10, 20), (20, 30), (30, 40), (40, 50)]\n",
        "freq = [4, 6, 10, 8, 2]\n",
        "\n",
        "# DataFrame\n",
        "df = pd.DataFrame(intervals, columns=['Lower', 'Upper'])\n",
        "df['Frequency'] = freq\n",
        "df['Cumulative Frequency'] = df['Frequency'].cumsum()\n",
        "\n",
        "# Median calculation\n",
        "N = df['Frequency'].sum()\n",
        "median_idx = df[df['Cumulative Frequency'] >= N/2].index[0]\n",
        "L = df.loc[median_idx, 'Lower']\n",
        "F = df.loc[median_idx - 1, 'Cumulative Frequency'] if median_idx > 0 else 0\n",
        "f = df.loc[median_idx, 'Frequency']\n",
        "h = df.loc[median_idx, 'Upper'] - df.loc[median_idx, 'Lower']\n",
        "median = L + ((N/2 - F) / f) * h\n",
        "\n",
        "# Mode calculation\n",
        "mode_idx = df[df['Frequency'] == df['Frequency'].max()].index[0]\n",
        "L_mode = df.loc[mode_idx, 'Lower']\n",
        "f_m = df.loc[mode_idx, 'Frequency']\n",
        "f_1 = df.loc[mode_idx - 1, 'Frequency'] if mode_idx > 0 else 0\n",
        "f_2 = df.loc[mode_idx + 1, 'Frequency'] if mode_idx < len(df) - 1 else 0\n",
        "mode = L_mode + ((f_m - f_1) / (2 * f_m - f_1 - f_2)) * h\n",
        "\n",
        "print(\"Median:\", median)\n",
        "print(\"Mode:\", mode)"
      ],
      "metadata": {
        "colab": {
          "base_uri": "https://localhost:8080/"
        },
        "id": "Dl2KefAWeSyj",
        "outputId": "176a1352-f4bc-4cdf-9cea-2ee92ec6f7d4"
      },
      "execution_count": 19,
      "outputs": [
        {
          "output_type": "stream",
          "name": "stdout",
          "text": [
            "Median: 25.0\n",
            "Mode: 26.666666666666664\n"
          ]
        }
      ]
    }
  ]
}
